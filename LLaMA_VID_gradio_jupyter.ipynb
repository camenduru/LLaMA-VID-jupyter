{
  "cells": [
    {
      "cell_type": "markdown",
      "metadata": {
        "id": "view-in-github"
      },
      "source": [
        "[![Open In Colab](https://colab.research.google.com/assets/colab-badge.svg)](https://colab.research.google.com/github/camenduru/LLaMA-VID-jupyter/blob/main/LLaMA_VID_gradio_jupyter.ipynb)"
      ]
    },
    {
      "cell_type": "code",
      "execution_count": null,
      "metadata": {
        "id": "VjYy0F2gZIPR"
      },
      "outputs": [],
      "source": [
        "%cd /content\n",
        "!git clone -b dev https://github.com/camenduru/LLaMA-VID\n",
        "%cd /content/LLaMA-VID\n",
        "\n",
        "!pip install -q -e .\n",
        "!pip install -q ninja\n",
        "!pip install -q flash-attn --no-build-isolation\n",
        "\n",
        "!apt -y install -qq aria2\n",
        "!aria2c --console-log-level=error -c -x 16 -s 16 -k 1M https://storage.googleapis.com/sfr-vision-language-research/LAVIS/models/BLIP2/eva_vit_g.pth -d /content/model_zoo/LAVIS -o eva_vit_g.pth\n",
        "!aria2c --console-log-level=error -c -x 16 -s 16 -k 1M https://huggingface.co/openai/clip-vit-large-patch14/raw/main/config.json -d /content/model_zoo/OpenAI/clip-vit-large-patch14 -o config.json\n",
        "!aria2c --console-log-level=error -c -x 16 -s 16 -k 1M https://huggingface.co/openai/clip-vit-large-patch14/raw/main/tokenizer.json -d /content/model_zoo/OpenAI/clip-vit-large-patch14 -o tokenizer.json\n",
        "!aria2c --console-log-level=error -c -x 16 -s 16 -k 1M https://huggingface.co/openai/clip-vit-large-patch14/raw/main/tokenizer_config.json -d /content/model_zoo/OpenAI/clip-vit-large-patch14 -o tokenizer_config.json\n",
        "!aria2c --console-log-level=error -c -x 16 -s 16 -k 1M https://huggingface.co/openai/clip-vit-large-patch14/raw/main/vocab.json -d /content/model_zoo/OpenAI/clip-vit-large-patch14 -o vocab.json\n",
        "!aria2c --console-log-level=error -c -x 16 -s 16 -k 1M https://huggingface.co/openai/clip-vit-large-patch14/raw/main/special_tokens_map.json -d /content/model_zoo/OpenAI/clip-vit-large-patch14 -o special_tokens_map.json\n",
        "!aria2c --console-log-level=error -c -x 16 -s 16 -k 1M https://huggingface.co/openai/clip-vit-large-patch14/raw/main/preprocessor_config.json -d /content/model_zoo/OpenAI/clip-vit-large-patch14 -o preprocessor_config.json\n",
        "!aria2c --console-log-level=error -c -x 16 -s 16 -k 1M https://huggingface.co/openai/clip-vit-large-patch14/resolve/main/pytorch_model.bin -d /content/model_zoo/OpenAI/clip-vit-large-patch14 -o pytorch_model.bi"
      ]
    },
    {
      "cell_type": "code",
      "execution_count": null,
      "metadata": {},
      "outputs": [],
      "source": [
        "import threading\n",
        "import subprocess\n",
        "threading.Thread(target=lambda: subprocess.run(['python', '-m', 'llamavid.serve.controller', '--host', '0.0.0.0', '--port', '10000'], check=True), daemon=True).start()\n",
        "# !python -m llamavid.serve.controller --host 0.0.0.0 --port 10000"
      ]
    },
    {
      "cell_type": "code",
      "execution_count": null,
      "metadata": {},
      "outputs": [],
      "source": [
        "import threading\n",
        "import subprocess\n",
        "command = [\n",
        "    'python', '-m', 'llamavid.serve.model_worker',\n",
        "    '--host', '0.0.0.0',\n",
        "    '--controller', 'http://localhost:10000',\n",
        "    '--port', '40000',\n",
        "    '--worker', 'http://localhost:40000',\n",
        "    '--model-path', '4bit/llama-vid-7b-full-224-long-video-5GB',\n",
        "    '--load-8bit'\n",
        "]\n",
        "threading.Thread(target=lambda: subprocess.run(command, check=True, shell=False), daemon=True).start()\n",
        "# !python -m llamavid.serve.model_worker --host 0.0.0.0 --controller http://localhost:10000 --port 40000 --worker http://localhost:40000 --model-path 4bit/llama-vid-7b-full-224-long-video-5GB"
      ]
    },
    {
      "cell_type": "code",
      "execution_count": null,
      "metadata": {},
      "outputs": [],
      "source": [
        "!python -m llamavid.serve.gradio_web_server --controller http://localhost:10000 --model-list-mode reload --share"
      ]
    }
  ],
  "metadata": {
    "accelerator": "GPU",
    "colab": {
      "gpuType": "T4",
      "provenance": []
    },
    "kernelspec": {
      "display_name": "Python 3",
      "name": "python3"
    },
    "language_info": {
      "name": "python"
    }
  },
  "nbformat": 4,
  "nbformat_minor": 0
}
