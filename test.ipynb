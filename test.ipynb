{
  "cells": [
    {
      "cell_type": "markdown",
      "metadata": {
        "id": "view-in-github"
      },
      "source": [
        "[![Open In Colab](https://colab.research.google.com/assets/colab-badge.svg)](https://colab.research.google.com/github/camenduru/LLaMA-VID-jupyter/blob/main/test.ipynb)"
      ]
    },
    {
      "cell_type": "code",
      "execution_count": null,
      "metadata": {
        "id": "VjYy0F2gZIPR"
      },
      "outputs": [],
      "source": [
        "%cd /content\n",
        "!git clone -b dev https://github.com/camenduru/LLaMA-VID\n",
        "%cd /content/LLaMA-VID\n",
        "\n",
        "# !pip install -q llava@git+https://github.com/haotian-liu/LLaVA.git@1619889c712e347be1cb4f78ec66e7cf414ac1a6\n",
        "# !pip install -q einops fastapi gradio markdown2[all] uvicorn wandb shortuuid httpx deepspeed peft accelerate \n",
        "# !pip install -q bitsandbytes einops einops-exts timm gradio_client fairscale decord transformers==4.31.0\n",
        "!pip install -q -e .\n",
        "!pip install -q ninja\n",
        "!pip install -q flash-attn --no-build-isolation\n",
        "\n",
        "!apt -y install -qq aria2\n",
        "!aria2c --console-log-level=error -c -x 16 -s 16 -k 1M https://storage.googleapis.com/sfr-vision-language-research/LAVIS/models/BLIP2/eva_vit_g.pth -d /content/LLaMA-VID/model_zoo/LAVIS -o eva_vit_g.pth\n",
        "\n",
        "!aria2c --console-log-level=error -c -x 16 -s 16 -k 1M https://huggingface.co/openai/clip-vit-large-patch14/raw/main/config.json -d /content/LLaMA-VID/model_zoo/OpenAI/clip-vit-large-patch14 -o config.json\n",
        "!aria2c --console-log-level=error -c -x 16 -s 16 -k 1M https://huggingface.co/openai/clip-vit-large-patch14/raw/main/tokenizer.json -d /content/LLaMA-VID/model_zoo/OpenAI/clip-vit-large-patch14 -o tokenizer.json\n",
        "!aria2c --console-log-level=error -c -x 16 -s 16 -k 1M https://huggingface.co/openai/clip-vit-large-patch14/raw/main/tokenizer_config.json -d /content/LLaMA-VID/model_zoo/OpenAI/clip-vit-large-patch14 -o tokenizer_config.json\n",
        "!aria2c --console-log-level=error -c -x 16 -s 16 -k 1M https://huggingface.co/openai/clip-vit-large-patch14/raw/main/vocab.json -d /content/LLaMA-VID/model_zoo/OpenAI/clip-vit-large-patch14 -o vocab.json\n",
        "!aria2c --console-log-level=error -c -x 16 -s 16 -k 1M https://huggingface.co/openai/clip-vit-large-patch14/raw/main/special_tokens_map.json -d /content/LLaMA-VID/model_zoo/OpenAI/clip-vit-large-patch14 -o special_tokens_map.json\n",
        "!aria2c --console-log-level=error -c -x 16 -s 16 -k 1M https://huggingface.co/openai/clip-vit-large-patch14/raw/main/preprocessor_config.json -d /content/LLaMA-VID/model_zoo/OpenAI/clip-vit-large-patch14 -o preprocessor_config.json\n",
        "!aria2c --console-log-level=error -c -x 16 -s 16 -k 1M https://huggingface.co/openai/clip-vit-large-patch14/resolve/main/pytorch_model.bin -d /content/LLaMA-VID/model_zoo/OpenAI/clip-vit-large-patch14 -o pytorch_model.bin\n",
        "\n",
        "!aria2c --console-log-level=error -c -x 16 -s 16 -k 1M https://huggingface.co/4bit/llama-vid-7b-full-224-long-video-5GB/raw/main/config.json -d /content/vid -o config.json\n",
        "!aria2c --console-log-level=error -c -x 16 -s 16 -k 1M https://huggingface.co/4bit/llama-vid-7b-full-224-long-video-5GB/raw/main/generation_config.json -d /content/vid -o generation_config.json\n",
        "!aria2c --console-log-level=error -c -x 16 -s 16 -k 1M https://huggingface.co/4bit/llama-vid-7b-full-224-long-video-5GB/resolve/main/pytorch_model-00001-of-00003.bin -d /content/vid -o pytorch_model-00001-of-00003.bin\n",
        "!aria2c --console-log-level=error -c -x 16 -s 16 -k 1M https://huggingface.co/4bit/llama-vid-7b-full-224-long-video-5GB/resolve/main/pytorch_model-00002-of-00003.bin -d /content/vid -o pytorch_model-00002-of-00003.bin\n",
        "!aria2c --console-log-level=error -c -x 16 -s 16 -k 1M https://huggingface.co/4bit/llama-vid-7b-full-224-long-video-5GB/resolve/main/pytorch_model-00003-of-00003.bin -d /content/vid -o pytorch_model-00003-of-00003.bin\n",
        "!aria2c --console-log-level=error -c -x 16 -s 16 -k 1M https://huggingface.co/4bit/llama-vid-7b-full-224-long-video-5GB/raw/main/pytorch_model.bin.index.json -d /content/vid -o pytorch_model.bin.index.json\n",
        "!aria2c --console-log-level=error -c -x 16 -s 16 -k 1M https://huggingface.co/4bit/llama-vid-7b-full-224-long-video-5GB/raw/main/special_tokens_map.json -d /content/vid -o special_tokens_map.json\n",
        "!aria2c --console-log-level=error -c -x 16 -s 16 -k 1M https://huggingface.co/4bit/llama-vid-7b-full-224-long-video-5GB/raw/main/tokenizer.json -d /content/vid -o tokenizer.json\n",
        "!aria2c --console-log-level=error -c -x 16 -s 16 -k 1M https://huggingface.co/4bit/llama-vid-7b-full-224-long-video-5GB/resolve/main/tokenizer.model -d /content/vid -o tokenizer.model\n",
        "!aria2c --console-log-level=error -c -x 16 -s 16 -k 1M https://huggingface.co/4bit/llama-vid-7b-full-224-long-video-5GB/raw/main/tokenizer_config.json -d /content/vid -o tokenizer_config.json"
      ]
    },
    {
      "cell_type": "code",
      "execution_count": null,
      "metadata": {},
      "outputs": [],
      "source": [
        "%cd /content/LLaMA-VID\n",
        "\n",
        "import torch\n",
        "\n",
        "from llamavid.constants import IMAGE_TOKEN_INDEX, DEFAULT_IMAGE_TOKEN, DEFAULT_IM_START_TOKEN, DEFAULT_IM_END_TOKEN\n",
        "from llamavid.conversation import conv_templates, SeparatorStyle\n",
        "from llamavid.model.builder import load_pretrained_model\n",
        "from llava.utils import disable_torch_init\n",
        "from llava.mm_utils import tokenizer_image_token, get_model_name_from_path, KeywordsStoppingCriteria\n",
        "\n",
        "from PIL import Image\n",
        "from decord import VideoReader, cpu\n",
        "\n",
        "import requests\n",
        "from PIL import Image\n",
        "from io import BytesIO\n",
        "from transformers import TextStreamer\n",
        "\n",
        "def load_image(image_file):\n",
        "    if image_file.startswith('http') or image_file.startswith('https'):\n",
        "        response = requests.get(image_file)\n",
        "        image = Image.open(BytesIO(response.content)).convert('RGB')\n",
        "    else:\n",
        "        image = Image.open(image_file).convert('RGB')\n",
        "    return image\n",
        "\n",
        "def load_video(video_path, fps=1):\n",
        "    vr = VideoReader(video_path, ctx=cpu(0))\n",
        "    fps = round(vr.get_avg_fps()/fps)\n",
        "    frame_idx = [i for i in range(0, len(vr), fps)]\n",
        "    spare_frames = vr.get_batch(frame_idx).asnumpy()\n",
        "    return spare_frames\n",
        "\n",
        "disable_torch_init()\n",
        "\n",
        "# from llamavid.model import LlavaLlamaAttForCausalLM\n",
        "# model = LlavaLlamaAttForCausalLM.from_pretrained('/content/vid', load_in_8bit=True)\n",
        "model_name = get_model_name_from_path('/content/vid')\n",
        "tokenizer, model, image_processor, context_len = load_pretrained_model('/content/vid', None, model_name, load_8bit=True, load_4bit=False, device_map=\"cuda\", device=\"cuda\")\n",
        "conv_mode = \"llava_v1\"\n",
        "conv = conv_templates[conv_mode].copy()\n",
        "roles = conv.roles"
      ]
    },
    {
      "cell_type": "code",
      "execution_count": null,
      "metadata": {},
      "outputs": [],
      "source": [
        "image = load_image('/content/titanic.jpg')\n",
        "image_tensor = image_processor.preprocess(image, return_tensors='pt')['pixel_values'].half().cuda()\n",
        "# inp = input(f\"{roles[0]}: \")\n",
        "inp = 'explain'\n",
        "model.update_prompt([[inp]])\n",
        "inp = DEFAULT_IMAGE_TOKEN + '\\n' + inp\n",
        "conv.append_message(conv.roles[0], inp)\n",
        "image = None\n",
        "conv.append_message(conv.roles[1], None)\n",
        "prompt = conv.get_prompt()\n",
        "prompt\n",
        "\n",
        "input_ids = tokenizer_image_token(prompt, tokenizer, IMAGE_TOKEN_INDEX, return_tensors='pt').unsqueeze(0).cuda()\n",
        "stop_str = conv.sep if conv.sep_style != SeparatorStyle.TWO else conv.sep2\n",
        "keywords = [stop_str]\n",
        "stopping_criteria = KeywordsStoppingCriteria(keywords, tokenizer, input_ids)\n",
        "streamer = TextStreamer(tokenizer, skip_prompt=True, skip_special_tokens=True)"
      ]
    },
    {
      "cell_type": "code",
      "execution_count": null,
      "metadata": {},
      "outputs": [],
      "source": [
        "with torch.inference_mode():\n",
        "  output_ids = model.generate(\n",
        "      input_ids,\n",
        "      images=image_tensor,\n",
        "      do_sample=True,\n",
        "      temperature=0.2,\n",
        "      top_p=0.7,\n",
        "      max_new_tokens=512,\n",
        "      streamer=streamer,\n",
        "      use_cache=True,\n",
        "      stopping_criteria=[stopping_criteria])"
      ]
    },
    {
      "cell_type": "code",
      "execution_count": null,
      "metadata": {},
      "outputs": [],
      "source": [
        "outputs = tokenizer.decode(output_ids[0, input_ids.shape[1]:]).strip()\n",
        "conv.messages[-1][-1] = outputs\n",
        "conv.messages[-2][-1] = conv.messages[-2][-1].replace(DEFAULT_IMAGE_TOKEN+'\\n','')\n",
        "print(\"\\n\", {\"prompt\": prompt, \"outputs\": outputs}, \"\\n\")"
      ]
    }
  ],
  "metadata": {
    "accelerator": "GPU",
    "colab": {
      "gpuType": "T4",
      "provenance": []
    },
    "kernelspec": {
      "display_name": "Python 3",
      "name": "python3"
    },
    "language_info": {
      "name": "python"
    }
  },
  "nbformat": 4,
  "nbformat_minor": 0
}
